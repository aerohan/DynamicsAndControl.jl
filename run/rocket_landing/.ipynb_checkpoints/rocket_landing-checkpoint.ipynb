{
 "cells": [
  {
   "cell_type": "code",
   "execution_count": null,
   "metadata": {},
   "outputs": [],
   "source": [
    "using DynamicsAndControl\n",
    "using StaticArrays\n",
    "using Rotations\n",
    "using OrdinaryDiffEq"
   ]
  },
  {
   "cell_type": "code",
   "execution_count": null,
   "metadata": {},
   "outputs": [],
   "source": [
    "@dynamics PlanarRocketLanding{T} begin\n",
    "    @integrable begin\n",
    "        r::SVector{2, T} \n",
    "        v::SVector{2, T}\n",
    "        θ::T\n",
    "        ω::T\n",
    "        m::T\n",
    "    end\n",
    "\n",
    "    @direct begin\n",
    "        landed::Bool\n",
    "    end\n",
    "end"
   ]
  },
  {
   "cell_type": "code",
   "execution_count": null,
   "metadata": {},
   "outputs": [],
   "source": [
    "@controller RocketLandingController{T} begin\n",
    "    @outputs begin\n",
    "        δ_gim::T\n",
    "        T_thrust::T\n",
    "    end\n",
    "end"
   ]
  },
  {
   "cell_type": "code",
   "execution_count": null,
   "metadata": {},
   "outputs": [],
   "source": [
    "function DynamicsAndControl.initialize(::Type{PlanarRocketLanding}, config)\n",
    "    x0 = config.x0\n",
    "\n",
    "    return (x0.r, x0.v, x0.θ, x0.ω, x0.m), (false,), config.params\n",
    "end"
   ]
  },
  {
   "cell_type": "code",
   "execution_count": null,
   "metadata": {},
   "outputs": [],
   "source": [
    "function DynamicsAndControl.dynamics!(this::PlanarRocketLanding, ẋ, x, u, t)\n",
    "    @unpack Isp, J = static(this)\n",
    "    @unpack r, v, θ, ω, m = x\n",
    "    @unpack δ_gim, T_thrust = u\n",
    "\n",
    "    f_thrust = T_thrust*RotMatrix(θ)*@SVector([1.0, 0.0])\n",
    "    f_grav = @SVector([0.0, -m*9.81])\n",
    "    f_total = f_thrust + f_grav\n",
    "\n",
    "    ẋ.r = v\n",
    "    ẋ.v = f_total/m\n",
    "    ẋ.θ = ω\n",
    "    ẋ.ω = T_thrust*sin(δ_gim)/J\n",
    "    ẋ.m = -T_thrust*Isp\n",
    "\n",
    "    log!(this, :state, t, (a=ẋ.v, ω̇=ẋ.ω, r, v, θ, ω, m))\n",
    "    log!(this, :forces, t, (;f_thrust, f_grav, f_total))\n",
    "end"
   ]
  },
  {
   "cell_type": "code",
   "execution_count": null,
   "metadata": {},
   "outputs": [],
   "source": [
    "DynamicsAndControl.initialize(::Type{RocketLandingController}, config) = (), (0.0, 0.0), config"
   ]
  },
  {
   "cell_type": "code",
   "execution_count": null,
   "metadata": {},
   "outputs": [],
   "source": [
    "function DynamicsAndControl.update!(this::RocketLandingController, u, _, x, t)\n",
    "    @unpack m = x\n",
    "    @unpack T_W = static(this)\n",
    "\n",
    "    T_thrust = m*9.81 * T_W\n",
    "    δ_gim = 0.0\n",
    "\n",
    "    @pack! u = T_thrust, δ_gim\n",
    "\n",
    "    log!(this, :outputs, t, (;T_thrust, δ_gim))\n",
    "end"
   ]
  },
  {
   "cell_type": "code",
   "execution_count": null,
   "metadata": {},
   "outputs": [],
   "source": [
    "dynamics_conf = ( x0 = (\n",
    "                         r = @SVector([.5e3, 2e3]), \n",
    "                         v = @SVector([-50.0, -250.0]),\n",
    "                         θ = -20*π/180,\n",
    "                         ω = .3*π/180,\n",
    "                         m = 1e4,\n",
    "                    ),\n",
    "                  params = (\n",
    "                        Isp = 300*9.81,\n",
    "                        J = 1e6,\n",
    "                    )\n",
    "                 )"
   ]
  },
  {
   "cell_type": "code",
   "execution_count": null,
   "metadata": {
    "lines_to_next_cell": 2
   },
   "outputs": [],
   "source": [
    "control_conf = ( T_W = 1.1, )"
   ]
  },
  {
   "cell_type": "code",
   "execution_count": null,
   "metadata": {},
   "outputs": [],
   "source": [
    "sim = Simulation(\n",
    "                    ( :truth, PlanarRocketLanding, dynamics_conf ),\n",
    "                    ( :controller, RocketLandingController, control_conf ),\n",
    "                    10.0, RK4(), dt=0.02\n",
    "               )"
   ]
  },
  {
   "cell_type": "code",
   "execution_count": null,
   "metadata": {},
   "outputs": [],
   "source": [
    "data, _ = simulate(sim)"
   ]
  },
  {
   "cell_type": "code",
   "execution_count": null,
   "metadata": {},
   "outputs": [],
   "source": [
    "let f = data.truth.forces\n",
    "    plot(f.time, f.f_total[1], xlabel=\"time\", ylabel=\"f horz\")\n",
    "    plot(f.time, f.f_total[2], xlabel=\"time\", ylabel=\"f vert\")\n",
    "end"
   ]
  }
 ],
 "metadata": {
  "jupytext": {
   "cell_metadata_filter": "-all",
   "formats": "ipynb,jl:light"
  },
  "kernelspec": {
   "display_name": "Julia 1.5.3",
   "language": "julia",
   "name": "julia-1.5"
  },
  "language_info": {
   "file_extension": ".jl",
   "mimetype": "application/julia",
   "name": "julia",
   "version": "1.5.3"
  }
 },
 "nbformat": 4,
 "nbformat_minor": 4
}
